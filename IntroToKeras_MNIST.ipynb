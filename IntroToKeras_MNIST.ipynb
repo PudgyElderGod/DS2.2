{
  "nbformat": 4,
  "nbformat_minor": 0,
  "metadata": {
    "kernelspec": {
      "display_name": "Python 3",
      "language": "python",
      "name": "python3"
    },
    "language_info": {
      "codemirror_mode": {
        "name": "ipython",
        "version": 3
      },
      "file_extension": ".py",
      "mimetype": "text/x-python",
      "name": "python",
      "nbconvert_exporter": "python",
      "pygments_lexer": "ipython3",
      "version": "3.7.7"
    },
    "colab": {
      "name": "IntroToKeras-MNIST.ipynb",
      "provenance": []
    }
  },
  "cells": [
    {
      "cell_type": "markdown",
      "metadata": {
        "id": "CD9Dc4IUpfP2"
      },
      "source": [
        "# Introduction to Keras"
      ]
    },
    {
      "cell_type": "markdown",
      "metadata": {
        "id": "K_xAxRkSpfQB"
      },
      "source": [
        "In this notebook, we'll explore the Keras and use it to create a classifier to predict hand written digits."
      ]
    },
    {
      "cell_type": "markdown",
      "metadata": {
        "id": "7vkmXwbGpfQJ"
      },
      "source": [
        "## Introduction and Background"
      ]
    },
    {
      "cell_type": "markdown",
      "metadata": {
        "id": "pm7PsaTdpfQR"
      },
      "source": [
        "### What is Keras? Why use it?"
      ]
    },
    {
      "cell_type": "markdown",
      "metadata": {
        "id": "JBzh8RuOpfQX"
      },
      "source": [
        "Keras is a high-level deep learning API that serves to build, train, evaluate, and as a toolbox to neural networks. This means that Keras is used to do deep learning by being a wrapper to more complex and low-level deep learning frameworks like TensorFlow, CNTK, and Theano. The same functions for Keras wrapped CNTK are the same for Keras wrapped Theano and TensorFlow. TensorFlow (TF), the current most popular deep learning library and open sourced by Google, has recently integrated it's framework with Keras, so now Keras comes in with TF. \n",
        "\n",
        "Well, that's all find and dandy, but why should we use Keras? What's wrong with using TF? And why is TF integrating Keras? What does this all mean? TF, as well as other deep learning libraries, can be a bit more complicated to use (for the exception of PyTorch, more on that in a second). As you may have already experienced, deep learning can be quite complex, having a *deep* understanding (pun intended) of everything that's going on is sometimes needed, making TF (pre-Keras integration) unfriendly. With the latest version of Keras, TF is now super easy to use. Since TF is the most common library, there are tons of add ons and pipelines for mobile and websites already made. Therefore, Keras/TF is ideal for the more common programmer.\n",
        "\n",
        "Are there other options? The other up-and-coming library is PyTorch, created by Facebook. PyTorch is more common in research circles (whereas Keras/TF is more common in industry) however the interface at a high level tends to be the same. Arguably, transitioning from Keras to PyTorch should be simple.\n",
        "\n",
        "So am I going to be using Keras or TF in this class? Both! In our case, they're the same thing. Again, Keras has been integrated by default to TF, Keras is a wrapper to TF. If you're going to be doing high level work (which will be 95% of the time), you're going to be calling and using Keras. If you're going into the nitty gritty low-level work of Neural Networks (i.e. creating your own custom loss function, activation function, or metrics), you're going to be using TF. If someone asks what deep learning framework you used in this class, TensorFlow! But do give a shoutout to Keras if you use `tf.keras` often.\n",
        "\n",
        "So for the rest of this notebook, we'll be using Keras."
      ]
    },
    {
      "cell_type": "markdown",
      "metadata": {
        "id": "DsIYyQpLpfQa"
      },
      "source": [
        "### Training Deep Learning Networks"
      ]
    },
    {
      "cell_type": "markdown",
      "metadata": {
        "id": "_BHup7bIpfQd"
      },
      "source": [
        "Neural nets can take a while to train; you may have heard this prior in the mystery of deep learning. So can your computer train neural networks? It depends. If you're doing **deep** deep learning, using +30 layers or working with an enormous amount of data, training could take forever. One would need a GPU on their computer. More than often, we use some sort of cloud computing, why Colab would be ideal. For more intensive trainings (since Colab shuts down after +12 hours), usually a cloud provider like AWS (Amazon) or GCP (Google) would be used.\n",
        "\n",
        "Keras/TF works with and without a GPU, but by default is set to without a GPU. In this notebook, we won't be working with intense computation, so a GPU isn't necessarily. However that doesn't mean that training can't take a while. If you're working on Colab, changing the computation setting from CPU to GPU may speed things up. Your decision on what to do.\n",
        "\n",
        "If you have a GPU on your computer, there are guides towards setting up TF with a GPU with certain requirements. Slack me (Kevin Marroquin) for more details since this installation can get tricky."
      ]
    },
    {
      "cell_type": "markdown",
      "metadata": {
        "id": "pwh4Gz29pfQg"
      },
      "source": [
        "## Running an example: MNIST"
      ]
    },
    {
      "cell_type": "markdown",
      "metadata": {
        "id": "keZ_Rh0ppfQn"
      },
      "source": [
        "### Installing Tensorflow and Loading Imports\n",
        "\n",
        "First, we're going to install Keras, in case you're using this on your local computer. However, this should work under Colab."
      ]
    },
    {
      "cell_type": "code",
      "metadata": {
        "id": "NmcCSfQPpfQp",
        "outputId": "66f8528f-0f21-4b5b-fccc-fd8e3e96889f",
        "colab": {
          "base_uri": "https://localhost:8080/",
          "height": 0
        }
      },
      "source": [
        "#See installation details here: https://www.tensorflow.org/install/\n",
        "!pip install tensorflow"
      ],
      "execution_count": 69,
      "outputs": [
        {
          "output_type": "stream",
          "text": [
            "Requirement already satisfied: tensorflow in /usr/local/lib/python3.6/dist-packages (2.3.0)\n",
            "Requirement already satisfied: opt-einsum>=2.3.2 in /usr/local/lib/python3.6/dist-packages (from tensorflow) (3.3.0)\n",
            "Requirement already satisfied: h5py<2.11.0,>=2.10.0 in /usr/local/lib/python3.6/dist-packages (from tensorflow) (2.10.0)\n",
            "Requirement already satisfied: wrapt>=1.11.1 in /usr/local/lib/python3.6/dist-packages (from tensorflow) (1.12.1)\n",
            "Requirement already satisfied: grpcio>=1.8.6 in /usr/local/lib/python3.6/dist-packages (from tensorflow) (1.34.0)\n",
            "Requirement already satisfied: protobuf>=3.9.2 in /usr/local/lib/python3.6/dist-packages (from tensorflow) (3.12.4)\n",
            "Requirement already satisfied: tensorflow-estimator<2.4.0,>=2.3.0 in /usr/local/lib/python3.6/dist-packages (from tensorflow) (2.3.0)\n",
            "Requirement already satisfied: numpy<1.19.0,>=1.16.0 in /usr/local/lib/python3.6/dist-packages (from tensorflow) (1.18.5)\n",
            "Requirement already satisfied: google-pasta>=0.1.8 in /usr/local/lib/python3.6/dist-packages (from tensorflow) (0.2.0)\n",
            "Requirement already satisfied: keras-preprocessing<1.2,>=1.1.1 in /usr/local/lib/python3.6/dist-packages (from tensorflow) (1.1.2)\n",
            "Requirement already satisfied: tensorboard<3,>=2.3.0 in /usr/local/lib/python3.6/dist-packages (from tensorflow) (2.3.0)\n",
            "Requirement already satisfied: wheel>=0.26 in /usr/local/lib/python3.6/dist-packages (from tensorflow) (0.36.1)\n",
            "Requirement already satisfied: gast==0.3.3 in /usr/local/lib/python3.6/dist-packages (from tensorflow) (0.3.3)\n",
            "Requirement already satisfied: termcolor>=1.1.0 in /usr/local/lib/python3.6/dist-packages (from tensorflow) (1.1.0)\n",
            "Requirement already satisfied: astunparse==1.6.3 in /usr/local/lib/python3.6/dist-packages (from tensorflow) (1.6.3)\n",
            "Requirement already satisfied: six>=1.12.0 in /usr/local/lib/python3.6/dist-packages (from tensorflow) (1.15.0)\n",
            "Requirement already satisfied: scipy==1.4.1 in /usr/local/lib/python3.6/dist-packages (from tensorflow) (1.4.1)\n",
            "Requirement already satisfied: absl-py>=0.7.0 in /usr/local/lib/python3.6/dist-packages (from tensorflow) (0.10.0)\n",
            "Requirement already satisfied: setuptools in /usr/local/lib/python3.6/dist-packages (from protobuf>=3.9.2->tensorflow) (50.3.2)\n",
            "Requirement already satisfied: tensorboard-plugin-wit>=1.6.0 in /usr/local/lib/python3.6/dist-packages (from tensorboard<3,>=2.3.0->tensorflow) (1.7.0)\n",
            "Requirement already satisfied: google-auth<2,>=1.6.3 in /usr/local/lib/python3.6/dist-packages (from tensorboard<3,>=2.3.0->tensorflow) (1.17.2)\n",
            "Requirement already satisfied: google-auth-oauthlib<0.5,>=0.4.1 in /usr/local/lib/python3.6/dist-packages (from tensorboard<3,>=2.3.0->tensorflow) (0.4.2)\n",
            "Requirement already satisfied: markdown>=2.6.8 in /usr/local/lib/python3.6/dist-packages (from tensorboard<3,>=2.3.0->tensorflow) (3.3.3)\n",
            "Requirement already satisfied: requests<3,>=2.21.0 in /usr/local/lib/python3.6/dist-packages (from tensorboard<3,>=2.3.0->tensorflow) (2.23.0)\n",
            "Requirement already satisfied: werkzeug>=0.11.15 in /usr/local/lib/python3.6/dist-packages (from tensorboard<3,>=2.3.0->tensorflow) (1.0.1)\n",
            "Requirement already satisfied: rsa<5,>=3.1.4; python_version >= \"3\" in /usr/local/lib/python3.6/dist-packages (from google-auth<2,>=1.6.3->tensorboard<3,>=2.3.0->tensorflow) (4.6)\n",
            "Requirement already satisfied: pyasn1-modules>=0.2.1 in /usr/local/lib/python3.6/dist-packages (from google-auth<2,>=1.6.3->tensorboard<3,>=2.3.0->tensorflow) (0.2.8)\n",
            "Requirement already satisfied: cachetools<5.0,>=2.0.0 in /usr/local/lib/python3.6/dist-packages (from google-auth<2,>=1.6.3->tensorboard<3,>=2.3.0->tensorflow) (4.1.1)\n",
            "Requirement already satisfied: requests-oauthlib>=0.7.0 in /usr/local/lib/python3.6/dist-packages (from google-auth-oauthlib<0.5,>=0.4.1->tensorboard<3,>=2.3.0->tensorflow) (1.3.0)\n",
            "Requirement already satisfied: importlib-metadata; python_version < \"3.8\" in /usr/local/lib/python3.6/dist-packages (from markdown>=2.6.8->tensorboard<3,>=2.3.0->tensorflow) (3.1.1)\n",
            "Requirement already satisfied: idna<3,>=2.5 in /usr/local/lib/python3.6/dist-packages (from requests<3,>=2.21.0->tensorboard<3,>=2.3.0->tensorflow) (2.10)\n",
            "Requirement already satisfied: urllib3!=1.25.0,!=1.25.1,<1.26,>=1.21.1 in /usr/local/lib/python3.6/dist-packages (from requests<3,>=2.21.0->tensorboard<3,>=2.3.0->tensorflow) (1.24.3)\n",
            "Requirement already satisfied: certifi>=2017.4.17 in /usr/local/lib/python3.6/dist-packages (from requests<3,>=2.21.0->tensorboard<3,>=2.3.0->tensorflow) (2020.12.5)\n",
            "Requirement already satisfied: chardet<4,>=3.0.2 in /usr/local/lib/python3.6/dist-packages (from requests<3,>=2.21.0->tensorboard<3,>=2.3.0->tensorflow) (3.0.4)\n",
            "Requirement already satisfied: pyasn1>=0.1.3 in /usr/local/lib/python3.6/dist-packages (from rsa<5,>=3.1.4; python_version >= \"3\"->google-auth<2,>=1.6.3->tensorboard<3,>=2.3.0->tensorflow) (0.4.8)\n",
            "Requirement already satisfied: oauthlib>=3.0.0 in /usr/local/lib/python3.6/dist-packages (from requests-oauthlib>=0.7.0->google-auth-oauthlib<0.5,>=0.4.1->tensorboard<3,>=2.3.0->tensorflow) (3.1.0)\n",
            "Requirement already satisfied: zipp>=0.5 in /usr/local/lib/python3.6/dist-packages (from importlib-metadata; python_version < \"3.8\"->markdown>=2.6.8->tensorboard<3,>=2.3.0->tensorflow) (3.4.0)\n"
          ],
          "name": "stdout"
        }
      ]
    },
    {
      "cell_type": "code",
      "metadata": {
        "ExecuteTime": {
          "end_time": "2020-11-05T10:24:47.193454Z",
          "start_time": "2020-11-05T10:24:47.145457Z"
        },
        "id": "qts6RxbwpfQ2"
      },
      "source": [
        "#Importing Keras and other imports\n",
        "from tensorflow import keras\n",
        "import numpy as np\n",
        "import pandas as pd\n",
        "import matplotlib.pyplot as plt\n",
        "%matplotlib inline"
      ],
      "execution_count": 70,
      "outputs": []
    },
    {
      "cell_type": "markdown",
      "metadata": {
        "id": "6C7lUeAipfRD"
      },
      "source": [
        "We're going to want reproducible results, so pre-defining random seeds is necessary."
      ]
    },
    {
      "cell_type": "code",
      "metadata": {
        "id": "yoKx3MJepfRG"
      },
      "source": [
        "from numpy.random import seed\n",
        "seed(42)\n",
        "from tensorflow.random import set_seed\n",
        "set_seed(42)\n",
        "#If the two lines above give you error, mute them and run the following:\n",
        "# import tensorflow\n",
        "# tensorflow.random.set_seed(42)"
      ],
      "execution_count": 71,
      "outputs": []
    },
    {
      "cell_type": "markdown",
      "metadata": {
        "id": "Nj-oP-jBrT8v"
      },
      "source": [
        "Normally one wouldn't want to have a pre-defined random seed (in fact you would want the exact opposite), but in our case, since we want to be able to produce reprodicible results for grading purposes, it's needed."
      ]
    },
    {
      "cell_type": "markdown",
      "metadata": {
        "id": "yP-A1vLUpfRQ"
      },
      "source": [
        "### Loading, Analyzing, and Preprocessing Data"
      ]
    },
    {
      "cell_type": "markdown",
      "metadata": {
        "id": "ljYxYodspfRR"
      },
      "source": [
        "For this example, we will be using the [MNIST dataset](https://www.tensorflow.org/datasets/catalog/mnist). MNIST is a dataset of handwritten digits created to classify what type of digit, from zero to nine, is shown. MNIST is modified and, to some extent, normalized such that they're all the same size. Let's explore and see what kind of information MNIST have. If you've seen MNIST, this will probably be stuff you've seen before, so feel free to skip to the neural network part."
      ]
    },
    {
      "cell_type": "code",
      "metadata": {
        "ExecuteTime": {
          "end_time": "2020-11-05T08:18:06.974049Z",
          "start_time": "2020-11-05T08:18:06.368984Z"
        },
        "id": "HTqQEvaPpfRV"
      },
      "source": [
        "#Loading datasets\n",
        "mnist = keras.datasets.mnist\n",
        "(X_train_full, y_train_full), (X_test, y_test) = mnist.load_data()"
      ],
      "execution_count": 72,
      "outputs": []
    },
    {
      "cell_type": "code",
      "metadata": {
        "ExecuteTime": {
          "end_time": "2020-11-05T08:19:47.487213Z",
          "start_time": "2020-11-05T08:19:47.478418Z"
        },
        "id": "0dDGrf_1pfRi",
        "outputId": "fd3e3ff5-c775-4718-963e-e33c2cf875a3",
        "colab": {
          "base_uri": "https://localhost:8080/",
          "height": 0
        }
      },
      "source": [
        "#Seeing shapes of data\n",
        "print(\"X_train:\", X_train_full.shape)\n",
        "print(\"y_train:\", y_train_full.shape)\n",
        "print(\"X_test:\", X_test.shape)\n",
        "print(\"y_test:\", y_test.shape)"
      ],
      "execution_count": 73,
      "outputs": [
        {
          "output_type": "stream",
          "text": [
            "X_train: (60000, 28, 28)\n",
            "y_train: (60000,)\n",
            "X_test: (10000, 28, 28)\n",
            "y_test: (10000,)\n"
          ],
          "name": "stdout"
        }
      ]
    },
    {
      "cell_type": "markdown",
      "metadata": {
        "id": "NUH_dvUCpfRp"
      },
      "source": [
        "So we see that we have 60000 training datapoints and 10000 test. How does one of these datapoints look like?"
      ]
    },
    {
      "cell_type": "code",
      "metadata": {
        "ExecuteTime": {
          "end_time": "2020-11-05T08:21:22.410866Z",
          "start_time": "2020-11-05T08:21:22.403207Z"
        },
        "id": "pOb2KNTApfRq",
        "outputId": "470c08af-7621-4b00-f0d1-cae7b422f9f3",
        "colab": {
          "base_uri": "https://localhost:8080/",
          "height": 0
        }
      },
      "source": [
        "X_train_full"
      ],
      "execution_count": 74,
      "outputs": [
        {
          "output_type": "execute_result",
          "data": {
            "text/plain": [
              "array([[[0, 0, 0, ..., 0, 0, 0],\n",
              "        [0, 0, 0, ..., 0, 0, 0],\n",
              "        [0, 0, 0, ..., 0, 0, 0],\n",
              "        ...,\n",
              "        [0, 0, 0, ..., 0, 0, 0],\n",
              "        [0, 0, 0, ..., 0, 0, 0],\n",
              "        [0, 0, 0, ..., 0, 0, 0]],\n",
              "\n",
              "       [[0, 0, 0, ..., 0, 0, 0],\n",
              "        [0, 0, 0, ..., 0, 0, 0],\n",
              "        [0, 0, 0, ..., 0, 0, 0],\n",
              "        ...,\n",
              "        [0, 0, 0, ..., 0, 0, 0],\n",
              "        [0, 0, 0, ..., 0, 0, 0],\n",
              "        [0, 0, 0, ..., 0, 0, 0]],\n",
              "\n",
              "       [[0, 0, 0, ..., 0, 0, 0],\n",
              "        [0, 0, 0, ..., 0, 0, 0],\n",
              "        [0, 0, 0, ..., 0, 0, 0],\n",
              "        ...,\n",
              "        [0, 0, 0, ..., 0, 0, 0],\n",
              "        [0, 0, 0, ..., 0, 0, 0],\n",
              "        [0, 0, 0, ..., 0, 0, 0]],\n",
              "\n",
              "       ...,\n",
              "\n",
              "       [[0, 0, 0, ..., 0, 0, 0],\n",
              "        [0, 0, 0, ..., 0, 0, 0],\n",
              "        [0, 0, 0, ..., 0, 0, 0],\n",
              "        ...,\n",
              "        [0, 0, 0, ..., 0, 0, 0],\n",
              "        [0, 0, 0, ..., 0, 0, 0],\n",
              "        [0, 0, 0, ..., 0, 0, 0]],\n",
              "\n",
              "       [[0, 0, 0, ..., 0, 0, 0],\n",
              "        [0, 0, 0, ..., 0, 0, 0],\n",
              "        [0, 0, 0, ..., 0, 0, 0],\n",
              "        ...,\n",
              "        [0, 0, 0, ..., 0, 0, 0],\n",
              "        [0, 0, 0, ..., 0, 0, 0],\n",
              "        [0, 0, 0, ..., 0, 0, 0]],\n",
              "\n",
              "       [[0, 0, 0, ..., 0, 0, 0],\n",
              "        [0, 0, 0, ..., 0, 0, 0],\n",
              "        [0, 0, 0, ..., 0, 0, 0],\n",
              "        ...,\n",
              "        [0, 0, 0, ..., 0, 0, 0],\n",
              "        [0, 0, 0, ..., 0, 0, 0],\n",
              "        [0, 0, 0, ..., 0, 0, 0]]], dtype=uint8)"
            ]
          },
          "metadata": {
            "tags": []
          },
          "execution_count": 74
        }
      ]
    },
    {
      "cell_type": "code",
      "metadata": {
        "ExecuteTime": {
          "end_time": "2020-11-05T09:02:24.980655Z",
          "start_time": "2020-11-05T09:02:24.971846Z"
        },
        "id": "k5_ccoedpfRx",
        "outputId": "73877bfb-1b1f-486e-8c50-605f8c819eb9",
        "colab": {
          "base_uri": "https://localhost:8080/",
          "height": 0
        }
      },
      "source": [
        "y_test[0]"
      ],
      "execution_count": 75,
      "outputs": [
        {
          "output_type": "execute_result",
          "data": {
            "text/plain": [
              "7"
            ]
          },
          "metadata": {
            "tags": []
          },
          "execution_count": 75
        }
      ]
    },
    {
      "cell_type": "code",
      "metadata": {
        "ExecuteTime": {
          "end_time": "2020-11-05T08:21:11.392618Z",
          "start_time": "2020-11-05T08:21:11.377924Z"
        },
        "id": "XAlok2nypfR6",
        "outputId": "66e98d75-5675-425b-fb93-78102105f9cf",
        "colab": {
          "base_uri": "https://localhost:8080/",
          "height": 0
        }
      },
      "source": [
        "X_train_full[0].shape"
      ],
      "execution_count": 76,
      "outputs": [
        {
          "output_type": "execute_result",
          "data": {
            "text/plain": [
              "(28, 28)"
            ]
          },
          "metadata": {
            "tags": []
          },
          "execution_count": 76
        }
      ]
    },
    {
      "cell_type": "markdown",
      "metadata": {
        "id": "xvxxZEhGpfSC"
      },
      "source": [
        "So an image is represented as a 28x28 image in pixels and it. It's a picture in black and white, representing pixel intensity from 0 to 255, where a 255 representing black and 0 representing white. Let's plot this to see the data."
      ]
    },
    {
      "cell_type": "code",
      "metadata": {
        "ExecuteTime": {
          "end_time": "2020-11-05T09:06:21.409749Z",
          "start_time": "2020-11-05T09:06:21.404006Z"
        },
        "id": "3lYMxiXhpfSK",
        "outputId": "ebce8d0d-b02b-4f78-c056-06dc625e4160",
        "colab": {
          "base_uri": "https://localhost:8080/",
          "height": 0
        }
      },
      "source": [
        "#Looking at test data\n",
        "y_train_full"
      ],
      "execution_count": 77,
      "outputs": [
        {
          "output_type": "execute_result",
          "data": {
            "text/plain": [
              "array([5, 0, 4, ..., 5, 6, 8], dtype=uint8)"
            ]
          },
          "metadata": {
            "tags": []
          },
          "execution_count": 77
        }
      ]
    },
    {
      "cell_type": "code",
      "metadata": {
        "ExecuteTime": {
          "end_time": "2020-11-05T09:06:59.000370Z",
          "start_time": "2020-11-05T09:06:58.904785Z"
        },
        "id": "co2Xx8_2pfSU",
        "outputId": "5a0b1953-4bbb-47d5-9c91-34b38755eabf",
        "colab": {
          "base_uri": "https://localhost:8080/",
          "height": 374
        }
      },
      "source": [
        "#Rerun to get different numbers\n",
        "def plotImage(image):\n",
        "    \"\"\"A 28x28 array that represents an image.\"\"\"\n",
        "    plt.figure(figsize=(6, 6))\n",
        "    plt.imshow(image, cmap=\"gray\")\n",
        "    plt.axis(False)\n",
        "    plt.show()\n",
        "sample_image = np.random.randint(0, len(X_train_full))\n",
        "print(\"The expected value is:\", y_train_full[sample_image])\n",
        "plotImage(X_train_full[sample_image])"
      ],
      "execution_count": 78,
      "outputs": [
        {
          "output_type": "stream",
          "text": [
            "The expected value is: 4\n"
          ],
          "name": "stdout"
        },
        {
          "output_type": "display_data",
          "data": {
            "image/png": "[encoded data removed]",
            "text/plain": [
              "<Figure size 432x432 with 1 Axes>"
            ]
          },
          "metadata": {
            "tags": [],
            "needs_background": "light"
          }
        }
      ]
    },
    {
      "cell_type": "markdown",
      "metadata": {
        "id": "UO0SFGLBpfSa"
      },
      "source": [
        "Before using this data, we must preprocess it to our likings. Something that should be done before plugging our data into our neural net is to normalize and shift it for better results ([see more details here](https://stackoverflow.com/questions/4674623/why-do-we-have-to-normalize-the-input-for-an-artificial-neural-network)). If you want some quick intuition about our activation functions, or a sigmoid function, most of it's \"function\" (the part that's interesting and not a flat line) is near `x` = 0 than at `x` = 255, `X_train_full`'s max point. Normalizing and shifting our data brings it to the action of the function (seriously, no pun intended on this one) where the model may perform better."
      ]
    },
    {
      "cell_type": "code",
      "metadata": {
        "ExecuteTime": {
          "end_time": "2020-11-05T08:49:46.967113Z",
          "start_time": "2020-11-05T08:49:46.748334Z"
        },
        "id": "__7J22nPpfSb",
        "outputId": "d0967dba-503a-4b8a-8c38-eb1b35c62059",
        "colab": {
          "base_uri": "https://localhost:8080/",
          "height": 281
        }
      },
      "source": [
        "#Example of Sigmoid function\n",
        "def sigmoid(x):\n",
        "    return 1/(np.exp(-x) + 1)\n",
        "plt.plot(np.arange(-15, 15), sigmoid(np.arange(-15, 15)))\n",
        "plt.title(\"Sigmoid Function\")\n",
        "plt.grid()\n",
        "plt.show()"
      ],
      "execution_count": 79,
      "outputs": [
        {
          "output_type": "display_data",
          "data": {
            "image/png": "[encoded data removed]",
            "text/plain": [
              "<Figure size 432x288 with 1 Axes>"
            ]
          },
          "metadata": {
            "tags": [],
            "needs_background": "light"
          }
        }
      ]
    },
    {
      "cell_type": "markdown",
      "metadata": {
        "id": "JPj2cGySpfSk"
      },
      "source": [
        "Let's convert this data to 0 and 1, where 1 is the max pixel intensity (255) and zero is still zero. Anything in between is the scaled value of the original data. In the process, we will create a validation pair (of X and y) to test our model after training and testing."
      ]
    },
    {
      "cell_type": "code",
      "metadata": {
        "ExecuteTime": {
          "end_time": "2020-11-05T09:02:05.560541Z",
          "start_time": "2020-11-05T09:02:04.899064Z"
        },
        "id": "mlnrzkO6pfSl"
      },
      "source": [
        "X_valid, X_train = X_train_full[:5000] / 255, X_train_full[5000:] / 255\n",
        "y_valid, y_train = y_train_full[:5000], y_train_full[5000:]\n",
        "X_test = X_test / 255\n",
        "#No need to do y_test since it's not being fed into the data.\n",
        "#Also, data is already shuffled, so no need to do so here"
      ],
      "execution_count": 80,
      "outputs": []
    },
    {
      "cell_type": "markdown",
      "metadata": {
        "ExecuteTime": {
          "end_time": "2020-11-05T09:09:23.480303Z",
          "start_time": "2020-11-05T09:09:23.474355Z"
        },
        "id": "TVy8woTjpfSq"
      },
      "source": [
        "Lastly, inputting a 2D datapoint into a neural network is a bit of work to implement and architect. To avoid harder work, we will transform our data into a 1D array. We will do this in the next section."
      ]
    },
    {
      "cell_type": "markdown",
      "metadata": {
        "id": "EpXfBxChpfSr"
      },
      "source": [
        "### Creating A Simple Neural Network"
      ]
    },
    {
      "cell_type": "markdown",
      "metadata": {
        "id": "umiVwSNUpfSs"
      },
      "source": [
        "Let's build a basic 2-layered neural network."
      ]
    },
    {
      "cell_type": "code",
      "metadata": {
        "ExecuteTime": {
          "end_time": "2020-11-05T09:43:56.369221Z",
          "start_time": "2020-11-05T09:43:56.319699Z"
        },
        "id": "lfO8CDF4pfSt"
      },
      "source": [
        "#Including random seeds here again in case for reproducibility\n",
        "from numpy.random import seed\n",
        "seed(42)\n",
        "from tensorflow.random import set_seed\n",
        "set_seed(42)\n",
        "#If the two lines above give you error, mute them and run the following:\n",
        "# import tensorflow\n",
        "# tensorflow.random.set_seed(42)\n",
        "\n",
        "model = keras.models.Sequential()\n",
        "model.add(keras.layers.Flatten(input_shape=[28, 28]))\n",
        "model.add(keras.layers.Dense(300, activation=\"sigmoid\"))\n",
        "model.add(keras.layers.Dense(100, activation=\"sigmoid\"))\n",
        "model.add(keras.layers.Dense(10, activation=\"softmax\"))\n",
        "\n",
        "#Another similar way of writing the above code is:\n",
        "# model = keras.model.Sequential([\n",
        "#     keras.layers.Flatten(input_shape=[28, 28]),\n",
        "#     keras.layers.Dense(300, activation=\"sigmoid\"),\n",
        "#     keras.layers.Dense(100, activation=\"sigmoid\"),\n",
        "#     keras.layers.Dense(10, activation=\"softmax\")\n",
        "# ])\n",
        "#Your choice in preference."
      ],
      "execution_count": 81,
      "outputs": []
    },
    {
      "cell_type": "markdown",
      "metadata": {
        "id": "QzoCOt6DpfSz"
      },
      "source": [
        "Going through the above code line by line:\n",
        "- The first line creates the simplest model composed of a single stack of layers connected sequentially. Needed in most cases to initialize the model.\n",
        "- The next layer flattens the data from 2D 28x28 to 1D 784. This layer is known as the input layer.\n",
        "- The next two (Dense) layers are hidden layers with 300 and 100 neurons respectively. They're both using sigmoid for their activation functions and contain a weight matrix that changes during training.\n",
        "- The last dense layer is the output layer. Choosing 10 neurons is a reflection of our output. We use a sigmoid function in order to calculate the probability.\n",
        "\n",
        "This is, again, a 2-layered neural network. Let's print out the summary of the model."
      ]
    },
    {
      "cell_type": "code",
      "metadata": {
        "ExecuteTime": {
          "end_time": "2020-11-05T09:44:51.642758Z",
          "start_time": "2020-11-05T09:44:51.633595Z"
        },
        "id": "vT-idNmwpfS0",
        "outputId": "11798958-a6fd-470b-ecf2-8dd3173e0826",
        "colab": {
          "base_uri": "https://localhost:8080/",
          "height": 0
        }
      },
      "source": [
        "#Inputting the first hidden layer, should be in the shape of 0-1\n",
        "weight = model.layers[1].get_weights()\n",
        "weight[0]"
      ],
      "execution_count": 82,
      "outputs": [
        {
          "output_type": "execute_result",
          "data": {
            "text/plain": [
              "array([[ 0.02448617, -0.00877795, -0.02189048, ..., -0.02766046,\n",
              "         0.03859074, -0.06889391],\n",
              "       [ 0.00476504, -0.03105379, -0.0586676 , ...,  0.00602964,\n",
              "        -0.02763776, -0.04165364],\n",
              "       [-0.06189284, -0.06901957,  0.07102345, ..., -0.04238207,\n",
              "         0.07121518, -0.07331658],\n",
              "       ...,\n",
              "       [-0.03048757,  0.02155137, -0.05400612, ..., -0.00113463,\n",
              "         0.00228987,  0.05581069],\n",
              "       [ 0.07061854, -0.06960931,  0.07038955, ..., -0.00384101,\n",
              "         0.00034875,  0.02878492],\n",
              "       [-0.06022581,  0.01577859, -0.02585464, ..., -0.00527829,\n",
              "         0.00272203, -0.06793761]], dtype=float32)"
            ]
          },
          "metadata": {
            "tags": []
          },
          "execution_count": 82
        }
      ]
    },
    {
      "cell_type": "markdown",
      "metadata": {
        "id": "etvCkQlbpfS7"
      },
      "source": [
        "We mentioned weights, that each layer contains it's own weights. As a reminder, a weight is needed to put emphasis on a feature in order to help a model model.\n",
        "\n",
        "We'll now be compiling the model"
      ]
    },
    {
      "cell_type": "code",
      "metadata": {
        "ExecuteTime": {
          "end_time": "2020-11-05T10:08:08.021494Z",
          "start_time": "2020-11-05T10:08:07.961694Z"
        },
        "scrolled": true,
        "id": "cPwpVg9ypfS-"
      },
      "source": [
        "model.compile(loss=\"sparse_categorical_crossentropy\", #Loss function\n",
        "              optimizer=\"sgd\", #Stochastic Gradient Descent\n",
        "             metrics=[\"accuracy\"])"
      ],
      "execution_count": 83,
      "outputs": []
    },
    {
      "cell_type": "markdown",
      "metadata": {
        "id": "lB1mJAWdpfTE"
      },
      "source": [
        "Let's train and evaluate the model."
      ]
    },
    {
      "cell_type": "code",
      "metadata": {
        "ExecuteTime": {
          "end_time": "2020-11-05T10:05:52.598975Z",
          "start_time": "2020-11-05T10:05:52.593859Z"
        },
        "id": "hicKsLb1pfTH",
        "outputId": "e05c1df2-1c98-4ae4-bba3-c602318fd861",
        "colab": {
          "base_uri": "https://localhost:8080/",
          "height": 0
        }
      },
      "source": [
        "y_valid.shape"
      ],
      "execution_count": 84,
      "outputs": [
        {
          "output_type": "execute_result",
          "data": {
            "text/plain": [
              "(5000,)"
            ]
          },
          "metadata": {
            "tags": []
          },
          "execution_count": 84
        }
      ]
    },
    {
      "cell_type": "code",
      "metadata": {
        "ExecuteTime": {
          "end_time": "2020-11-05T10:06:10.733470Z",
          "start_time": "2020-11-05T10:06:10.727824Z"
        },
        "id": "QutjAt37pfTN",
        "outputId": "19f1e329-f16d-4b29-d457-6d5449ba77af",
        "colab": {
          "base_uri": "https://localhost:8080/",
          "height": 0
        }
      },
      "source": [
        "X_valid.shape"
      ],
      "execution_count": 85,
      "outputs": [
        {
          "output_type": "execute_result",
          "data": {
            "text/plain": [
              "(5000, 28, 28)"
            ]
          },
          "metadata": {
            "tags": []
          },
          "execution_count": 85
        }
      ]
    },
    {
      "cell_type": "code",
      "metadata": {
        "ExecuteTime": {
          "end_time": "2020-11-05T10:06:19.243856Z",
          "start_time": "2020-11-05T10:06:19.238042Z"
        },
        "id": "HS5ic6yFpfTS",
        "outputId": "46ae70d8-67d5-4de0-9482-8915edaa72ad",
        "colab": {
          "base_uri": "https://localhost:8080/",
          "height": 0
        }
      },
      "source": [
        "X_train.shape"
      ],
      "execution_count": 86,
      "outputs": [
        {
          "output_type": "execute_result",
          "data": {
            "text/plain": [
              "(55000, 28, 28)"
            ]
          },
          "metadata": {
            "tags": []
          },
          "execution_count": 86
        }
      ]
    },
    {
      "cell_type": "code",
      "metadata": {
        "ExecuteTime": {
          "end_time": "2020-11-05T10:06:23.517784Z",
          "start_time": "2020-11-05T10:06:23.511968Z"
        },
        "id": "Tw2Vu0skpfTY",
        "outputId": "be7a78d4-03fa-48b1-828f-f3dbb22d702e",
        "colab": {
          "base_uri": "https://localhost:8080/",
          "height": 0
        }
      },
      "source": [
        "y_train.shape"
      ],
      "execution_count": 87,
      "outputs": [
        {
          "output_type": "execute_result",
          "data": {
            "text/plain": [
              "(55000,)"
            ]
          },
          "metadata": {
            "tags": []
          },
          "execution_count": 87
        }
      ]
    },
    {
      "cell_type": "code",
      "metadata": {
        "ExecuteTime": {
          "end_time": "2020-11-05T10:13:33.811067Z",
          "start_time": "2020-11-05T10:08:10.202691Z"
        },
        "code_folding": [],
        "id": "XiB2NUGQpfTc",
        "outputId": "685115ac-75c5-479f-da46-33d7fb43b2c0",
        "colab": {
          "base_uri": "https://localhost:8080/",
          "height": 0
        }
      },
      "source": [
        "#May take a while\n",
        "history = model.fit(X_train, y_train, epochs=30, \n",
        "                  validation_data=(X_valid, y_valid))"
      ],
      "execution_count": 88,
      "outputs": [
        {
          "output_type": "stream",
          "text": [
            "Epoch 1/30\n",
            "1719/1719 [==============================] - 5s 3ms/step - loss: 2.1718 - accuracy: 0.3760 - val_loss: 1.9587 - val_accuracy: 0.5422\n",
            "Epoch 2/30\n",
            "1719/1719 [==============================] - 5s 3ms/step - loss: 1.5916 - accuracy: 0.6502 - val_loss: 1.2082 - val_accuracy: 0.7258\n",
            "Epoch 3/30\n",
            "1719/1719 [==============================] - 5s 3ms/step - loss: 0.9993 - accuracy: 0.7686 - val_loss: 0.8152 - val_accuracy: 0.8084\n",
            "Epoch 4/30\n",
            "1719/1719 [==============================] - 5s 3ms/step - loss: 0.7290 - accuracy: 0.8228 - val_loss: 0.6272 - val_accuracy: 0.8452\n",
            "Epoch 5/30\n",
            "1719/1719 [==============================] - 5s 3ms/step - loss: 0.5895 - accuracy: 0.8512 - val_loss: 0.5246 - val_accuracy: 0.8676\n",
            "Epoch 6/30\n",
            "1719/1719 [==============================] - 5s 3ms/step - loss: 0.5084 - accuracy: 0.8688 - val_loss: 0.4614 - val_accuracy: 0.8772\n",
            "Epoch 7/30\n",
            "1719/1719 [==============================] - 5s 3ms/step - loss: 0.4572 - accuracy: 0.8785 - val_loss: 0.4177 - val_accuracy: 0.8888\n",
            "Epoch 8/30\n",
            "1719/1719 [==============================] - 5s 3ms/step - loss: 0.4227 - accuracy: 0.8851 - val_loss: 0.3901 - val_accuracy: 0.8940\n",
            "Epoch 9/30\n",
            "1719/1719 [==============================] - 5s 3ms/step - loss: 0.3980 - accuracy: 0.8900 - val_loss: 0.3693 - val_accuracy: 0.8998\n",
            "Epoch 10/30\n",
            "1719/1719 [==============================] - 5s 3ms/step - loss: 0.3796 - accuracy: 0.8942 - val_loss: 0.3526 - val_accuracy: 0.9030\n",
            "Epoch 11/30\n",
            "1719/1719 [==============================] - 5s 3ms/step - loss: 0.3652 - accuracy: 0.8965 - val_loss: 0.3382 - val_accuracy: 0.9058\n",
            "Epoch 12/30\n",
            "1719/1719 [==============================] - 5s 3ms/step - loss: 0.3534 - accuracy: 0.8991 - val_loss: 0.3277 - val_accuracy: 0.9082\n",
            "Epoch 13/30\n",
            "1719/1719 [==============================] - 5s 3ms/step - loss: 0.3436 - accuracy: 0.9016 - val_loss: 0.3197 - val_accuracy: 0.9092\n",
            "Epoch 14/30\n",
            "1719/1719 [==============================] - 5s 3ms/step - loss: 0.3353 - accuracy: 0.9035 - val_loss: 0.3124 - val_accuracy: 0.9114\n",
            "Epoch 15/30\n",
            "1719/1719 [==============================] - 6s 4ms/step - loss: 0.3279 - accuracy: 0.9050 - val_loss: 0.3051 - val_accuracy: 0.9140\n",
            "Epoch 16/30\n",
            "1719/1719 [==============================] - 6s 3ms/step - loss: 0.3212 - accuracy: 0.9072 - val_loss: 0.2985 - val_accuracy: 0.9166\n",
            "Epoch 17/30\n",
            "1719/1719 [==============================] - 5s 3ms/step - loss: 0.3156 - accuracy: 0.9085 - val_loss: 0.2927 - val_accuracy: 0.9172\n",
            "Epoch 18/30\n",
            "1719/1719 [==============================] - 5s 3ms/step - loss: 0.3102 - accuracy: 0.9103 - val_loss: 0.2882 - val_accuracy: 0.9180\n",
            "Epoch 19/30\n",
            "1719/1719 [==============================] - 5s 3ms/step - loss: 0.3053 - accuracy: 0.9119 - val_loss: 0.2837 - val_accuracy: 0.9192\n",
            "Epoch 20/30\n",
            "1719/1719 [==============================] - 5s 3ms/step - loss: 0.3004 - accuracy: 0.9129 - val_loss: 0.2814 - val_accuracy: 0.9206\n",
            "Epoch 21/30\n",
            "1719/1719 [==============================] - 5s 3ms/step - loss: 0.2963 - accuracy: 0.9140 - val_loss: 0.2754 - val_accuracy: 0.9208\n",
            "Epoch 22/30\n",
            "1719/1719 [==============================] - 5s 3ms/step - loss: 0.2922 - accuracy: 0.9152 - val_loss: 0.2721 - val_accuracy: 0.9240\n",
            "Epoch 23/30\n",
            "1719/1719 [==============================] - 5s 3ms/step - loss: 0.2884 - accuracy: 0.9164 - val_loss: 0.2682 - val_accuracy: 0.9238\n",
            "Epoch 24/30\n",
            "1719/1719 [==============================] - 5s 3ms/step - loss: 0.2844 - accuracy: 0.9175 - val_loss: 0.2653 - val_accuracy: 0.9246\n",
            "Epoch 25/30\n",
            "1719/1719 [==============================] - 5s 3ms/step - loss: 0.2810 - accuracy: 0.9181 - val_loss: 0.2615 - val_accuracy: 0.9260\n",
            "Epoch 26/30\n",
            "1719/1719 [==============================] - 5s 3ms/step - loss: 0.2775 - accuracy: 0.9192 - val_loss: 0.2597 - val_accuracy: 0.9264\n",
            "Epoch 27/30\n",
            "1719/1719 [==============================] - 5s 3ms/step - loss: 0.2742 - accuracy: 0.9196 - val_loss: 0.2561 - val_accuracy: 0.9280\n",
            "Epoch 28/30\n",
            "1719/1719 [==============================] - 5s 3ms/step - loss: 0.2709 - accuracy: 0.9211 - val_loss: 0.2535 - val_accuracy: 0.9278\n",
            "Epoch 29/30\n",
            "1719/1719 [==============================] - 5s 3ms/step - loss: 0.2678 - accuracy: 0.9219 - val_loss: 0.2498 - val_accuracy: 0.9290\n",
            "Epoch 30/30\n",
            "1719/1719 [==============================] - 6s 3ms/step - loss: 0.2647 - accuracy: 0.9233 - val_loss: 0.2485 - val_accuracy: 0.9290\n"
          ],
          "name": "stdout"
        }
      ]
    },
    {
      "cell_type": "markdown",
      "metadata": {
        "id": "pbz_o4mwpfTi"
      },
      "source": [
        "Plotting the accuracy and loss of our training and validation data."
      ]
    },
    {
      "cell_type": "code",
      "metadata": {
        "ExecuteTime": {
          "end_time": "2020-11-05T10:35:30.633481Z",
          "start_time": "2020-11-05T10:35:30.341672Z"
        },
        "id": "L1E4o0H0pfTj",
        "outputId": "08617e32-4eed-4f69-e46a-c85d61650ef3",
        "colab": {
          "base_uri": "https://localhost:8080/",
          "height": 468
        }
      },
      "source": [
        "#Plotting Accuracy\n",
        "plt.figure(figsize = (20, 7))\n",
        "plt.plot(np.arange(1, 31), history.history[\"accuracy\"], label = \"Train Data\")\n",
        "plt.plot(np.arange(1, 31), history.history[\"val_accuracy\"], label = \"Test Data\")\n",
        "plt.legend(fontsize = 15)\n",
        "plt.xlabel(\"Epoch\", size = 15)\n",
        "plt.ylabel(\"Accuracy\", size = 15)\n",
        "plt.title(\"Accuracy of MNIST over Epochs\", size = 20)\n",
        "plt.grid()\n",
        "plt.show()"
      ],
      "execution_count": 89,
      "outputs": [
        {
          "output_type": "display_data",
          "data": {
            "image/png": "[encoded data removed]",
            "text/plain": [
              "<Figure size 1440x504 with 1 Axes>"
            ]
          },
          "metadata": {
            "tags": [],
            "needs_background": "light"
          }
        }
      ]
    },
    {
      "cell_type": "code",
      "metadata": {
        "ExecuteTime": {
          "end_time": "2020-11-05T10:36:14.197532Z",
          "start_time": "2020-11-05T10:36:13.905882Z"
        },
        "id": "zNDAwWeapfTn",
        "outputId": "ed94c270-6bd8-4209-d5c6-eecbd41c9955",
        "colab": {
          "base_uri": "https://localhost:8080/",
          "height": 468
        }
      },
      "source": [
        "#Plotting Loss\n",
        "plt.figure(figsize = (20, 7))\n",
        "plt.plot(np.arange(1, 31), history.history[\"loss\"], label = \"Train Data\")\n",
        "plt.plot(np.arange(1, 31), history.history[\"val_loss\"], label = \"Test Data\")\n",
        "plt.legend(fontsize = 15)\n",
        "plt.xlabel(\"Epoch\", size = 15)\n",
        "plt.ylabel(\"Loss\", size = 15)\n",
        "plt.title(\"Loss of MNIST over Epochs\", size = 20)\n",
        "plt.grid()\n",
        "plt.show()"
      ],
      "execution_count": 90,
      "outputs": [
        {
          "output_type": "display_data",
          "data": {
            "image/png": "[encoded data removed]",
            "text/plain": [
              "<Figure size 1440x504 with 1 Axes>"
            ]
          },
          "metadata": {
            "tags": [],
            "needs_background": "light"
          }
        }
      ]
    },
    {
      "cell_type": "markdown",
      "metadata": {
        "id": "bqJRUvDUpfTt"
      },
      "source": [
        "Since our training and validation data seems to be closely tied, we can conclude there's hardly any overfitting. Creating a confusion matrix"
      ]
    },
    {
      "cell_type": "code",
      "metadata": {
        "ExecuteTime": {
          "end_time": "2020-11-05T10:37:35.043428Z",
          "start_time": "2020-11-05T10:37:32.637472Z"
        },
        "id": "4dU7OsjtpfTu",
        "outputId": "1627c5b3-9ffb-4c40-8914-0a26af9316c1",
        "colab": {
          "base_uri": "https://localhost:8080/",
          "height": 0
        }
      },
      "source": [
        "#Determining error from confusion matrix\n",
        "from sklearn.metrics import confusion_matrix\n",
        "confusion_matrix(y_test, np.argmax(model.predict(X_test), axis = -1))"
      ],
      "execution_count": 91,
      "outputs": [
        {
          "output_type": "execute_result",
          "data": {
            "text/plain": [
              "array([[ 962,    0,    3,    1,    0,    5,    6,    2,    1,    0],\n",
              "       [   0, 1109,    2,    2,    0,    2,    4,    2,   14,    0],\n",
              "       [  13,    6,  932,    8,   12,    3,   14,   12,   28,    4],\n",
              "       [   2,    1,   22,  918,    0,   30,    1,   16,   16,    4],\n",
              "       [   1,    2,    6,    0,  922,    0,   12,    2,    6,   31],\n",
              "       [  10,    2,    4,   41,    6,  780,   12,    7,   22,    8],\n",
              "       [  14,    3,    6,    1,   10,   16,  904,    2,    2,    0],\n",
              "       [   4,    9,   22,    6,    6,    0,    0,  962,    1,   18],\n",
              "       [   7,    7,    8,   24,    9,   33,   11,   12,  859,    4],\n",
              "       [  13,    8,    1,   10,   33,    6,    0,   24,    6,  908]])"
            ]
          },
          "metadata": {
            "tags": []
          },
          "execution_count": 91
        }
      ]
    },
    {
      "cell_type": "markdown",
      "metadata": {
        "id": "0AofGLLopfTz"
      },
      "source": [
        "A nicer plot"
      ]
    },
    {
      "cell_type": "code",
      "metadata": {
        "ExecuteTime": {
          "end_time": "2020-11-05T10:37:36.611674Z",
          "start_time": "2020-11-05T10:37:35.047048Z"
        },
        "id": "zhY8dwUdpfT0",
        "outputId": "ecfe3761-726d-45ae-c744-fd0c5006f702",
        "colab": {
          "base_uri": "https://localhost:8080/",
          "height": 580
        }
      },
      "source": [
        "#Creating a plotting function for a confusion matrix\n",
        "import itertools\n",
        "cm = confusion_matrix(y_test, np.argmax(model.predict(X_test), axis = -1))\n",
        "plt.figure(figsize=(10, 10))\n",
        "plt.imshow(cm, plt.cm.Blues)\n",
        "plt.colorbar()\n",
        "plt.title(\"Confusion Matrix For Model vs True Labels\", size = 20)\n",
        "fmt = 'd'\n",
        "thresh = cm.max() / 2.\n",
        "for i, j in itertools.product(range(cm.shape[0]), range(cm.shape[1])):\n",
        "    plt.text(j, i, format(cm[i, j], fmt),\n",
        "              horizontalalignment=\"center\",\n",
        "              color=\"white\" if cm[i, j] > thresh else \"black\")\n",
        "plt.xlabel(\"Predicted Labels\", size = 15)\n",
        "plt.xticks(np.arange(0, 10))\n",
        "plt.ylabel(\"True Labels\", size = 15)\n",
        "plt.yticks(np.arange(0, 10))\n",
        "plt.show()"
      ],
      "execution_count": 92,
      "outputs": [
        {
          "output_type": "display_data",
          "data": {
            "image/png": "[encoded data removed]",
            "text/plain": [
              "<Figure size 720x720 with 2 Axes>"
            ]
          },
          "metadata": {
            "tags": [],
            "needs_background": "light"
          }
        }
      ]
    },
    {
      "cell_type": "markdown",
      "metadata": {
        "id": "7Gk0SwV6pfT5"
      },
      "source": [
        "A confusion matrix is useful in looking at what values are predicting expected values. For example, the graph above shows that our model predicted nine +30 times when in reality it was four. This checks out, as fours and nines can occasionally look alike.\n",
        "\n",
        "A note on reading a confusion matrix: The heavy blue diagonal represents correctly predicted labels. Everything outside the diagonal represents predicted labels that were wrong to guess a certain true label. Match the x-axis and y-axis to determine what values were guessed correctly/incorrectly. What's the highest incorrectly predicted number? Does it make sense why a model would confuse it (i.e. can the incorrectly predicted value and true label be similarly drawn)? Would a human confuse this incorrectly predicted number?"
      ]
    },
    {
      "cell_type": "markdown",
      "metadata": {
        "id": "JSuvAeUgC4bK"
      },
      "source": [
        "Finally, we see how our model performs using our test data."
      ]
    },
    {
      "cell_type": "code",
      "metadata": {
        "id": "Iwq57XBdC2gH",
        "outputId": "91043f1e-2334-4128-a435-4ec9b47254ca",
        "colab": {
          "base_uri": "https://localhost:8080/",
          "height": 0
        }
      },
      "source": [
        "score = model.evaluate(X_test, y_test)\n",
        "print(\"loss:\", score[0], \"acc:\", score[1])"
      ],
      "execution_count": 93,
      "outputs": [
        {
          "output_type": "stream",
          "text": [
            "313/313 [==============================] - 0s 2ms/step - loss: 0.2563 - accuracy: 0.9256\n",
            "loss: 0.25626498460769653 acc: 0.925599992275238\n"
          ],
          "name": "stdout"
        }
      ]
    },
    {
      "cell_type": "markdown",
      "metadata": {
        "id": "Vqf6-eCmpfT7"
      },
      "source": [
        "## Question 1: Your Turn, Get Better Results Than Me On MNIST"
      ]
    },
    {
      "cell_type": "markdown",
      "metadata": {
        "id": "6tWEo6nZpfT7"
      },
      "source": [
        "Can you get better accuracy than me? I know there's specific hyperparameters where accuracy can get +99%. Here's a list of some hyperparameters you can tune:"
      ]
    },
    {
      "cell_type": "markdown",
      "metadata": {
        "id": "OCESB_YVpfT9"
      },
      "source": [
        "#### Hyperparameters:\n",
        "- Number of layers\n",
        "- Number of neurons in layers\n",
        "- Activation functions\n",
        "- Learning rate\n",
        "- Loss\n",
        "- Optimizer\n",
        "- Metrics\n",
        "- Epochs\n",
        "\n",
        "Hyperparameter testing shows how expensive testing every single option can be. I recommend changing the learning rate, number of layers, number of neurons, and activation function, but feel free to change or add whatever you'd like."
      ]
    },
    {
      "cell_type": "markdown",
      "metadata": {
        "id": "qNPSGv5ppfT9"
      },
      "source": [
        "#### Cheatsheet on how to do the above:\n",
        "- **Adding a layer**: `model.add(keras.layers.Dense())`\n",
        "- **Number of neurons in layers**: Input/change number inside `keras.layers.Dense()`\n",
        "- **Changing Activation functions**: In a dense layer, write `Dense(activation=\"InsertFunctionNameHere\")`. Examples of other functions can be found [here](https://keras.io/api/layers/activations/)\n",
        "- **Changing learning rate**: Involves importing `backend`. Instructions/a quick example can be found [here](https://stackoverflow.com/a/62113860).\n",
        "- **Changing Loss functions**: Same as changing Activation functions, but the loss is defined/changed when you call `model.compile(loss=\"InsertFunctionNameHere\")`. Be mindful to see what losses are appropriate for what models (you don't want a continuous loss on a binary model; continous and discrete don't mix!). This shouldn't be tweaked too much, but I want to give you all full control. List of loss functions [here](https://keras.io/api/losses/).\n",
        "- **Changing Optimizer**: This can speed up or give you better results:  `model.compile(optimizer=\"InsertOptimizerNameHere\")`. List of Optimizers are [here](https://keras.io/api/optimizers/). Try Adam or RMSprop since they seem to be popular.\n",
        "- **Changing or Adding Metrics**: Similar to changing optimizer and loss: `model.compile(metrics=[\"InsertListOfMetricsHere\"])`. You can run multiple metrics at the same time and it shouldn't decrease your performance. The same advise goes here as to changing loss functions: be aware what metrics are telling you what before you go on and change them. Here's a [list](https://keras.io/api/metrics/) of metrics.\n",
        "- **Changing Number of Epochs**: Changed when running `model.fit(epochs=\"InsertNumericValueHere\")`. Strategies of running a certain number of epochs can be found [here](https://www.codespeedy.com/how-to-choose-number-of-epochs-to-train-a-neural-network-in-keras/)."
      ]
    },
    {
      "cell_type": "markdown",
      "metadata": {
        "id": "mexfaLpzpfT-"
      },
      "source": [
        "Another way to improve results is to do image processing on the data. Since this notebook is to practice Keras I won't give any hints. But I do want to point it out since in real life, modifying data is universal to improving and speeding any model. You're more likely to do this first as a strategy than tweak for model parameters. For now, however, we do this for practice."
      ]
    },
    {
      "cell_type": "code",
      "metadata": {
        "id": "4MSqehRA5rme"
      },
      "source": [
        "# from numpy.random import seed\n",
        "# seed(42)\n",
        "# from tensorflow.random import set_seed\n",
        "# set_seed(42)\n",
        "#If the two lines above give you error, mute them and run the following:\n",
        "import tensorflow\n",
        "tensorflow.random.set_seed(42)"
      ],
      "execution_count": 102,
      "outputs": []
    },
    {
      "cell_type": "code",
      "metadata": {
        "id": "t7mpLTogap7r"
      },
      "source": [
        "import numpy as np\n",
        "from tensorflow import keras\n",
        "from tensorflow.keras import layers"
      ],
      "execution_count": 95,
      "outputs": []
    },
    {
      "cell_type": "code",
      "metadata": {
        "id": "aqq9EPjOpfT_",
        "outputId": "92e4644d-b406-47b0-a503-1989484647ef",
        "colab": {
          "base_uri": "https://localhost:8080/",
          "height": 0
        }
      },
      "source": [
        "#TODO: Create model, compile, and train (and I highly recommend that you\n",
        "#plot/make a confusion matrix, as it's super helpful in gaining context to \n",
        "#how your model is acting and where is error largest.)\n",
        "###YOUR CODE BELOW###\n",
        "num_classes = 10\n",
        "input_shape = (28, 28, 1)\n",
        "\n",
        "# the data, split between train and test sets\n",
        "(x_train, y_train), (x_test, y_test) = keras.datasets.mnist.load_data()\n",
        "\n",
        "# Scale images to the [0, 1] range\n",
        "x_train = x_train.astype(\"float32\") / 255\n",
        "x_test = x_test.astype(\"float32\") / 255\n",
        "# Make sure images have shape (28, 28, 1)\n",
        "x_train = np.expand_dims(x_train, -1)\n",
        "x_test = np.expand_dims(x_test, -1)\n",
        "print(\"x_train shape:\", x_train.shape)\n",
        "print(x_train.shape[0], \"train samples\")\n",
        "print(x_test.shape[0], \"test samples\")\n",
        "\n",
        "\n",
        "# convert class vectors to binary class matrices\n",
        "y_train = keras.utils.to_categorical(y_train, num_classes)\n",
        "y_test = keras.utils.to_categorical(y_test, num_classes)"
      ],
      "execution_count": 96,
      "outputs": [
        {
          "output_type": "stream",
          "text": [
            "x_train shape: (60000, 28, 28, 1)\n",
            "60000 train samples\n",
            "10000 test samples\n"
          ],
          "name": "stdout"
        }
      ]
    },
    {
      "cell_type": "code",
      "metadata": {
        "id": "hQCz2WLjpfUE",
        "outputId": "ad6aa166-b1dc-490d-b163-a50ecfa6487c",
        "colab": {
          "base_uri": "https://localhost:8080/",
          "height": 0
        }
      },
      "source": [
        "###EXTRA CELL IF NEEDED###\n",
        "#Feel free to create as many as needed.\n",
        "model = keras.Sequential(\n",
        "    [\n",
        "        keras.Input(shape=input_shape),\n",
        "        layers.Conv2D(32, kernel_size=(3, 3), activation=\"relu\"),\n",
        "        layers.MaxPooling2D(pool_size=(2, 2)),\n",
        "        layers.Conv2D(64, kernel_size=(3, 3), activation=\"relu\"),\n",
        "        layers.MaxPooling2D(pool_size=(2, 2)),\n",
        "        layers.Flatten(),\n",
        "        layers.Dropout(0.5),\n",
        "        layers.Dense(num_classes, activation=\"softmax\"),\n",
        "    ]\n",
        ")\n",
        "\n",
        "model.summary()"
      ],
      "execution_count": 97,
      "outputs": [
        {
          "output_type": "stream",
          "text": [
            "Model: \"sequential_4\"\n",
            "_________________________________________________________________\n",
            "Layer (type)                 Output Shape              Param #   \n",
            "=================================================================\n",
            "conv2d_2 (Conv2D)            (None, 26, 26, 32)        320       \n",
            "_________________________________________________________________\n",
            "max_pooling2d_2 (MaxPooling2 (None, 13, 13, 32)        0         \n",
            "_________________________________________________________________\n",
            "conv2d_3 (Conv2D)            (None, 11, 11, 64)        18496     \n",
            "_________________________________________________________________\n",
            "max_pooling2d_3 (MaxPooling2 (None, 5, 5, 64)          0         \n",
            "_________________________________________________________________\n",
            "flatten_4 (Flatten)          (None, 1600)              0         \n",
            "_________________________________________________________________\n",
            "dropout_1 (Dropout)          (None, 1600)              0         \n",
            "_________________________________________________________________\n",
            "dense_10 (Dense)             (None, 10)                16010     \n",
            "=================================================================\n",
            "Total params: 34,826\n",
            "Trainable params: 34,826\n",
            "Non-trainable params: 0\n",
            "_________________________________________________________________\n"
          ],
          "name": "stdout"
        }
      ]
    },
    {
      "cell_type": "code",
      "metadata": {
        "id": "hi8wsST_a1PV",
        "outputId": "1d6663f6-58f3-4177-eedd-81f461afc6d7",
        "colab": {
          "base_uri": "https://localhost:8080/",
          "height": 0
        }
      },
      "source": [
        "batch_size = 128\n",
        "epochs = 15\n",
        "\n",
        "model.compile(loss=\"categorical_crossentropy\", optimizer=\"adam\", metrics=[\"accuracy\"])\n",
        "\n",
        "model.fit(x_train, y_train, batch_size=batch_size, epochs=epochs, validation_split=0.1)"
      ],
      "execution_count": 98,
      "outputs": [
        {
          "output_type": "stream",
          "text": [
            "Epoch 1/15\n",
            "422/422 [==============================] - 40s 94ms/step - loss: 0.3697 - accuracy: 0.8893 - val_loss: 0.0832 - val_accuracy: 0.9755\n",
            "Epoch 2/15\n",
            "422/422 [==============================] - 39s 93ms/step - loss: 0.1133 - accuracy: 0.9650 - val_loss: 0.0572 - val_accuracy: 0.9843\n",
            "Epoch 3/15\n",
            "422/422 [==============================] - 40s 94ms/step - loss: 0.0853 - accuracy: 0.9742 - val_loss: 0.0469 - val_accuracy: 0.9880\n",
            "Epoch 4/15\n",
            "422/422 [==============================] - 39s 94ms/step - loss: 0.0728 - accuracy: 0.9778 - val_loss: 0.0431 - val_accuracy: 0.9885\n",
            "Epoch 5/15\n",
            "422/422 [==============================] - 40s 94ms/step - loss: 0.0627 - accuracy: 0.9801 - val_loss: 0.0398 - val_accuracy: 0.9885\n",
            "Epoch 6/15\n",
            "422/422 [==============================] - 40s 95ms/step - loss: 0.0570 - accuracy: 0.9827 - val_loss: 0.0367 - val_accuracy: 0.9900\n",
            "Epoch 7/15\n",
            "422/422 [==============================] - 40s 94ms/step - loss: 0.0522 - accuracy: 0.9839 - val_loss: 0.0352 - val_accuracy: 0.9895\n",
            "Epoch 8/15\n",
            "422/422 [==============================] - 40s 94ms/step - loss: 0.0466 - accuracy: 0.9853 - val_loss: 0.0345 - val_accuracy: 0.9902\n",
            "Epoch 9/15\n",
            "422/422 [==============================] - 39s 94ms/step - loss: 0.0444 - accuracy: 0.9862 - val_loss: 0.0335 - val_accuracy: 0.9902\n",
            "Epoch 10/15\n",
            "422/422 [==============================] - 40s 94ms/step - loss: 0.0423 - accuracy: 0.9865 - val_loss: 0.0330 - val_accuracy: 0.9900\n",
            "Epoch 11/15\n",
            "422/422 [==============================] - 39s 93ms/step - loss: 0.0398 - accuracy: 0.9872 - val_loss: 0.0296 - val_accuracy: 0.9917\n",
            "Epoch 12/15\n",
            "422/422 [==============================] - 39s 93ms/step - loss: 0.0386 - accuracy: 0.9880 - val_loss: 0.0284 - val_accuracy: 0.9918\n",
            "Epoch 13/15\n",
            "422/422 [==============================] - 39s 93ms/step - loss: 0.0351 - accuracy: 0.9891 - val_loss: 0.0277 - val_accuracy: 0.9918\n",
            "Epoch 14/15\n",
            "422/422 [==============================] - 40s 94ms/step - loss: 0.0352 - accuracy: 0.9883 - val_loss: 0.0280 - val_accuracy: 0.9915\n",
            "Epoch 15/15\n",
            "422/422 [==============================] - 40s 94ms/step - loss: 0.0325 - accuracy: 0.9900 - val_loss: 0.0301 - val_accuracy: 0.9925\n"
          ],
          "name": "stdout"
        },
        {
          "output_type": "execute_result",
          "data": {
            "text/plain": [
              "<tensorflow.python.keras.callbacks.History at 0x7f5271937710>"
            ]
          },
          "metadata": {
            "tags": []
          },
          "execution_count": 98
        }
      ]
    },
    {
      "cell_type": "code",
      "metadata": {
        "id": "zDKomgKDeHLT",
        "outputId": "ce27939e-640f-4a86-86f2-37d814a0abed",
        "colab": {
          "base_uri": "https://localhost:8080/",
          "height": 0
        }
      },
      "source": [
        "# your_score = model.evaluate(x_test, y_test, verbose=0)\n",
        "# print(\"Test loss:\", your_score[0])\n",
        "# print(\"Test accuracy:\", your_score[1])"
      ],
      "execution_count": 105,
      "outputs": [
        {
          "output_type": "stream",
          "text": [
            "Test loss: 0.026523232460021973\n",
            "Test accuracy: 0.9915000200271606\n"
          ],
          "name": "stdout"
        }
      ]
    },
    {
      "cell_type": "code",
      "metadata": {
        "id": "toVbfan1DJEx",
        "outputId": "f1004aa1-ce45-434a-e7fe-98d343b5b2c4",
        "colab": {
          "base_uri": "https://localhost:8080/",
          "height": 0
        }
      },
      "source": [
        "#Tester cell to see if your model is beating my results\n",
        "#Run this for your credit\n",
        "your_score = model.evaluate(x_test, y_test, verbose=0)\n",
        "print(\"Test loss:\", your_score[0])\n",
        "print(\"Test accuracy:\", your_score[1])\n",
        "print(\"OG Test loss:\", score[0])\n",
        "print(\"OG Test accuracy:\", score[1])\n",
        "assert your_score[1] > score[1]"
      ],
      "execution_count": 109,
      "outputs": [
        {
          "output_type": "stream",
          "text": [
            "Test loss: 0.026523232460021973\n",
            "Test accuracy: 0.9915000200271606\n",
            "OG Test loss: 0.25626498460769653\n",
            "OG Test accuracy: 0.925599992275238\n"
          ],
          "name": "stdout"
        }
      ]
    },
    {
      "cell_type": "markdown",
      "metadata": {
        "id": "Hh6keY-bpfUH"
      },
      "source": [
        "## Question 2: Create a Fashion Classifier"
      ]
    },
    {
      "cell_type": "markdown",
      "metadata": {
        "id": "g0wY_nrgpfUI"
      },
      "source": [
        "MNIST is known as being \"too easy\" for machine learning models. Classical ML models (e.g. SVMs, Random Forests) are able to score +99% accuracy with less training. Another similar dataset, named *Fashion MNIST*, is gaining popularity as it's a much harder classification problem while quite similar to MNIST.\n",
        "\n",
        "In this section, you will be creating a classifier for this fashion dataset. This dataset is very similar to MNIST in structure, so there won't be much hand holding in this section. In theory, you can copy/paste everything in the previous section and change very little. I recommend typing everything out (particularly in the Keras section) as it gets you familiar with actually learning Keras.\n",
        "\n",
        "A note about Fashion MNIST: the dataset is heavily pre-processed. The data won't look pretty to us (it's pixalated and colorless), but to a computer it's simple enough."
      ]
    },
    {
      "cell_type": "code",
      "metadata": {
        "id": "dHGJiYja5tNQ"
      },
      "source": [
        "# from numpy.random import seed\n",
        "# seed(42)\n",
        "# from tensorflow.random import set_seed\n",
        "# set_seed(42)\n",
        "#If the two lines above give you error, mute them and run the following:\n",
        "import tensorflow as tf\n",
        "tensorflow.random.set_seed(42)\n",
        "import numpy as np\n",
        "import matplotlib.pyplot as plt"
      ],
      "execution_count": 112,
      "outputs": []
    },
    {
      "cell_type": "code",
      "metadata": {
        "id": "1FS_YPdPpfUJ",
        "outputId": "4ac59bcb-e6fd-45fc-9647-0878fd22ce7d",
        "colab": {
          "base_uri": "https://localhost:8080/",
          "height": 0
        }
      },
      "source": [
        "#Load Data\n",
        "#HINT: You can load Fashion MNIST from Keras the same way you do with MNIST.\n",
        "#You may have to do some digging on the internet in order to do this.\n",
        "#This exercise is to get you familiar with the Keras API\n",
        "fashion_mnist = tf.keras.datasets.fashion_mnist\n",
        "\n",
        "(train_images, train_labels), (test_images, test_labels) = fashion_mnist.load_data()\n",
        "\n",
        "#Your labels in y are numbers from 0-9. Each of those numbers corresponds to \n",
        "#an index to a label in the labels variable. i.e. 8 = \"Bag\", 4 = \"Coat\", etc.\n",
        "labels = [\"T-shirt/top\", \"Trouser\", \"Pullover\", \"Dress\", \"Coat\", \"Sandal\", \n",
        "         \"Shirt\", \"Sneaker\", \"Bag\", \"Ankle boot\"]"
      ],
      "execution_count": 113,
      "outputs": [
        {
          "output_type": "stream",
          "text": [
            "Downloading data from https://storage.googleapis.com/tensorflow/tf-keras-datasets/train-labels-idx1-ubyte.gz\n",
            "32768/29515 [=================================] - 0s 0us/step\n",
            "Downloading data from https://storage.googleapis.com/tensorflow/tf-keras-datasets/train-images-idx3-ubyte.gz\n",
            "26427392/26421880 [==============================] - 0s 0us/step\n",
            "Downloading data from https://storage.googleapis.com/tensorflow/tf-keras-datasets/t10k-labels-idx1-ubyte.gz\n",
            "8192/5148 [===============================================] - 0s 0us/step\n",
            "Downloading data from https://storage.googleapis.com/tensorflow/tf-keras-datasets/t10k-images-idx3-ubyte.gz\n",
            "4423680/4422102 [==============================] - 0s 0us/step\n"
          ],
          "name": "stdout"
        }
      ]
    },
    {
      "cell_type": "code",
      "metadata": {
        "id": "xzgsX6Yljadl"
      },
      "source": [
        "class_names = ['T-shirt/top', 'Trouser', 'Pullover', 'Dress', 'Coat',\n",
        "               'Sandal', 'Shirt', 'Sneaker', 'Bag', 'Ankle boot']"
      ],
      "execution_count": 114,
      "outputs": []
    },
    {
      "cell_type": "code",
      "metadata": {
        "id": "Qz2KyGXpjdhx",
        "outputId": "5f378a4c-5ef5-4129-bbe8-de1366e16bd7",
        "colab": {
          "base_uri": "https://localhost:8080/",
          "height": 0
        }
      },
      "source": [
        "train_images.shape"
      ],
      "execution_count": 115,
      "outputs": [
        {
          "output_type": "execute_result",
          "data": {
            "text/plain": [
              "(60000, 28, 28)"
            ]
          },
          "metadata": {
            "tags": []
          },
          "execution_count": 115
        }
      ]
    },
    {
      "cell_type": "code",
      "metadata": {
        "id": "RIdx0BHQjfcN",
        "outputId": "facd391e-116f-4aef-8383-4d236709e55e",
        "colab": {
          "base_uri": "https://localhost:8080/",
          "height": 0
        }
      },
      "source": [
        "len(train_labels)"
      ],
      "execution_count": 116,
      "outputs": [
        {
          "output_type": "execute_result",
          "data": {
            "text/plain": [
              "60000"
            ]
          },
          "metadata": {
            "tags": []
          },
          "execution_count": 116
        }
      ]
    },
    {
      "cell_type": "code",
      "metadata": {
        "id": "f_SXUKumjhL9",
        "outputId": "ae7ae82e-6930-4563-f48c-df2e9c1074b3",
        "colab": {
          "base_uri": "https://localhost:8080/",
          "height": 0
        }
      },
      "source": [
        "train_labels"
      ],
      "execution_count": 117,
      "outputs": [
        {
          "output_type": "execute_result",
          "data": {
            "text/plain": [
              "array([9, 0, 0, ..., 3, 0, 5], dtype=uint8)"
            ]
          },
          "metadata": {
            "tags": []
          },
          "execution_count": 117
        }
      ]
    },
    {
      "cell_type": "code",
      "metadata": {
        "id": "hgLyAUG3pfUa",
        "outputId": "ee278222-ce74-4123-e388-93b214982b7e",
        "colab": {
          "base_uri": "https://localhost:8080/",
          "height": 265
        }
      },
      "source": [
        "#Pre-Process Data \n",
        "#Hint: Very similar to MNIST\n",
        "plt.figure()\n",
        "plt.imshow(train_images[0])\n",
        "plt.colorbar()\n",
        "plt.grid(False)\n",
        "plt.show()"
      ],
      "execution_count": 120,
      "outputs": [
        {
          "output_type": "display_data",
          "data": {
            "image/png": "[encoded data removed]",
            "text/plain": [
              "<Figure size 432x288 with 2 Axes>"
            ]
          },
          "metadata": {
            "tags": [],
            "needs_background": "light"
          }
        }
      ]
    },
    {
      "cell_type": "code",
      "metadata": {
        "ExecuteTime": {
          "end_time": "2020-11-05T11:34:53.648826Z",
          "start_time": "2020-11-05T11:34:53.637239Z"
        },
        "id": "Xc9FHwFzpfUf"
      },
      "source": [
        "#Create model\n",
        "from numpy.random import seed\n",
        "seed(42)\n",
        "from tensorflow.random import set_seed\n",
        "set_seed(42)\n",
        "#If the two lines above give you error, mute them and run the following:\n",
        "# import tensorflow\n",
        "# tensorflow.random.set_seed(42)\n"
      ],
      "execution_count": 121,
      "outputs": []
    },
    {
      "cell_type": "code",
      "metadata": {
        "id": "UwTEEG8OpfUm",
        "outputId": "824f809c-e264-4b44-d08b-44004972d93f",
        "colab": {
          "base_uri": "https://localhost:8080/",
          "height": 589
        }
      },
      "source": [
        "#Plots (Optional)\n",
        "plt.figure(figsize=(10,10))\n",
        "for i in range(25):\n",
        "    plt.subplot(5,5,i+1)\n",
        "    plt.xticks([])\n",
        "    plt.yticks([])\n",
        "    plt.grid(False)\n",
        "    plt.imshow(train_images[i], cmap=plt.cm.binary)\n",
        "    plt.xlabel(class_names[train_labels[i]])\n",
        "plt.show()"
      ],
      "execution_count": 122,
      "outputs": [
        {
          "output_type": "display_data",
          "data": {
            "image/png": "[encoded data removed]",
            "text/plain": [
              "<Figure size 720x720 with 25 Axes>"
            ]
          },
          "metadata": {
            "tags": []
          }
        }
      ]
    },
    {
      "cell_type": "code",
      "metadata": {
        "id": "rIoh0oN9kCBU",
        "outputId": "1a3b1978-ac4d-47c8-9864-b0a67995ccc3",
        "colab": {
          "base_uri": "https://localhost:8080/",
          "height": 0
        }
      },
      "source": [
        "model = tf.keras.Sequential([\n",
        "    tf.keras.layers.Flatten(input_shape=(28, 28)),\n",
        "    tf.keras.layers.Dense(128, activation='relu'),\n",
        "    tf.keras.layers.Dense(10)\n",
        "])\n",
        "\n",
        "model.compile(optimizer='adam',\n",
        "              loss=tf.keras.losses.SparseCategoricalCrossentropy(from_logits=True),\n",
        "              metrics=['accuracy'])\n",
        "\n",
        "model.fit(train_images, train_labels, epochs=10)"
      ],
      "execution_count": 126,
      "outputs": [
        {
          "output_type": "stream",
          "text": [
            "Epoch 1/10\n",
            "1875/1875 [==============================] - 4s 2ms/step - loss: 3.8076 - accuracy: 0.7099\n",
            "Epoch 2/10\n",
            "1875/1875 [==============================] - 4s 2ms/step - loss: 0.6881 - accuracy: 0.7562\n",
            "Epoch 3/10\n",
            "1875/1875 [==============================] - 4s 2ms/step - loss: 0.6315 - accuracy: 0.7740\n",
            "Epoch 4/10\n",
            "1875/1875 [==============================] - 4s 2ms/step - loss: 0.5821 - accuracy: 0.7890\n",
            "Epoch 5/10\n",
            "1875/1875 [==============================] - 4s 2ms/step - loss: 0.5546 - accuracy: 0.8004\n",
            "Epoch 6/10\n",
            "1875/1875 [==============================] - 4s 2ms/step - loss: 0.5319 - accuracy: 0.8180\n",
            "Epoch 7/10\n",
            "1875/1875 [==============================] - 4s 2ms/step - loss: 0.5183 - accuracy: 0.8263\n",
            "Epoch 8/10\n",
            "1875/1875 [==============================] - 4s 2ms/step - loss: 0.5072 - accuracy: 0.8332\n",
            "Epoch 9/10\n",
            "1875/1875 [==============================] - 4s 2ms/step - loss: 0.4902 - accuracy: 0.8379\n",
            "Epoch 10/10\n",
            "1875/1875 [==============================] - 4s 2ms/step - loss: 0.4860 - accuracy: 0.8389\n"
          ],
          "name": "stdout"
        },
        {
          "output_type": "execute_result",
          "data": {
            "text/plain": [
              "<tensorflow.python.keras.callbacks.History at 0x7f52701a1f28>"
            ]
          },
          "metadata": {
            "tags": []
          },
          "execution_count": 126
        }
      ]
    },
    {
      "cell_type": "code",
      "metadata": {
        "id": "-DVt4pdopfUr",
        "outputId": "179c6383-fced-42e4-ee1c-d9eac2f362f8",
        "colab": {
          "base_uri": "https://localhost:8080/",
          "height": 0
        }
      },
      "source": [
        "#Tester cell to see if your model is beating my results\n",
        "test_loss, test_acc = model.evaluate(test_images,  test_labels, verbose=2)\n",
        "\n",
        "print('\\nTest accuracy:', test_acc)\n",
        "assert 0.89 < score[1], \"Accuracy not high enough\""
      ],
      "execution_count": 129,
      "outputs": [
        {
          "output_type": "stream",
          "text": [
            "313/313 - 0s - loss: 0.5772 - accuracy: 0.8261\n",
            "\n",
            "Test accuracy: 0.8260999917984009\n"
          ],
          "name": "stdout"
        }
      ]
    },
    {
      "cell_type": "markdown",
      "metadata": {
        "id": "sgfFHEkipfUw"
      },
      "source": [
        "Try to get above 89% accuracy for both train and test using various hyperparameters.\n",
        "\n",
        "What label is the most mislabeled (contains the most error) in this model? Plot a confusion matrix showing this. Does it make sense? Plot several datapoints using `plotImage` to find out."
      ]
    },
    {
      "cell_type": "code",
      "metadata": {
        "id": "oa7jY_B2pfUw",
        "outputId": "35f8956e-ab89-4d52-ee18-72353094e491",
        "colab": {
          "base_uri": "https://localhost:8080/",
          "height": 375
        }
      },
      "source": [
        "#Confusion Matrix\n",
        "import itertools\n",
        "cm = confusion_matrix(y_test, np.argmax(model.predict(X_test), axis = -1))\n",
        "plt.figure(figsize=(10, 10))\n",
        "plt.imshow(cm, plt.cm.Blues)\n",
        "plt.colorbar()\n",
        "plt.title(\"Confusion Matrix For Model vs True Labels\", size = 20)\n",
        "fmt = 'd'\n",
        "thresh = cm.max() / 2.\n",
        "for i, j in itertools.product(range(cm.shape[0]), range(cm.shape[1])):\n",
        "    plt.text(j, i, format(cm[i, j], fmt),\n",
        "              horizontalalignment=\"center\",\n",
        "              color=\"white\" if cm[i, j] > thresh else \"black\")\n",
        "plt.xlabel(\"Predicted Labels\", size = 15)\n",
        "plt.xticks(np.arange(0, 10), labels=labels, rotation = 45)\n",
        "plt.ylabel(\"True Labels\", size = 15)\n",
        "plt.yticks(np.arange(0, 10), labels=labels)\n",
        "plt.show()"
      ],
      "execution_count": 130,
      "outputs": [
        {
          "output_type": "error",
          "ename": "ValueError",
          "evalue": "ignored",
          "traceback": [
            "\u001b[0;31m---------------------------------------------------------------------------\u001b[0m",
            "\u001b[0;31mValueError\u001b[0m                                Traceback (most recent call last)",
            "\u001b[0;32m<ipython-input-130-4a0e3dbc60d5>\u001b[0m in \u001b[0;36m<module>\u001b[0;34m()\u001b[0m\n\u001b[1;32m      1\u001b[0m \u001b[0;31m#Confusion Matrix\u001b[0m\u001b[0;34m\u001b[0m\u001b[0;34m\u001b[0m\u001b[0;34m\u001b[0m\u001b[0m\n\u001b[1;32m      2\u001b[0m \u001b[0;32mimport\u001b[0m \u001b[0mitertools\u001b[0m\u001b[0;34m\u001b[0m\u001b[0;34m\u001b[0m\u001b[0m\n\u001b[0;32m----> 3\u001b[0;31m \u001b[0mcm\u001b[0m \u001b[0;34m=\u001b[0m \u001b[0mconfusion_matrix\u001b[0m\u001b[0;34m(\u001b[0m\u001b[0my_test\u001b[0m\u001b[0;34m,\u001b[0m \u001b[0mnp\u001b[0m\u001b[0;34m.\u001b[0m\u001b[0margmax\u001b[0m\u001b[0;34m(\u001b[0m\u001b[0mmodel\u001b[0m\u001b[0;34m.\u001b[0m\u001b[0mpredict\u001b[0m\u001b[0;34m(\u001b[0m\u001b[0mX_test\u001b[0m\u001b[0;34m)\u001b[0m\u001b[0;34m,\u001b[0m \u001b[0maxis\u001b[0m \u001b[0;34m=\u001b[0m \u001b[0;34m-\u001b[0m\u001b[0;36m1\u001b[0m\u001b[0;34m)\u001b[0m\u001b[0;34m)\u001b[0m\u001b[0;34m\u001b[0m\u001b[0;34m\u001b[0m\u001b[0m\n\u001b[0m\u001b[1;32m      4\u001b[0m \u001b[0mplt\u001b[0m\u001b[0;34m.\u001b[0m\u001b[0mfigure\u001b[0m\u001b[0;34m(\u001b[0m\u001b[0mfigsize\u001b[0m\u001b[0;34m=\u001b[0m\u001b[0;34m(\u001b[0m\u001b[0;36m10\u001b[0m\u001b[0;34m,\u001b[0m \u001b[0;36m10\u001b[0m\u001b[0;34m)\u001b[0m\u001b[0;34m)\u001b[0m\u001b[0;34m\u001b[0m\u001b[0;34m\u001b[0m\u001b[0m\n\u001b[1;32m      5\u001b[0m \u001b[0mplt\u001b[0m\u001b[0;34m.\u001b[0m\u001b[0mimshow\u001b[0m\u001b[0;34m(\u001b[0m\u001b[0mcm\u001b[0m\u001b[0;34m,\u001b[0m \u001b[0mplt\u001b[0m\u001b[0;34m.\u001b[0m\u001b[0mcm\u001b[0m\u001b[0;34m.\u001b[0m\u001b[0mBlues\u001b[0m\u001b[0;34m)\u001b[0m\u001b[0;34m\u001b[0m\u001b[0;34m\u001b[0m\u001b[0m\n",
            "\u001b[0;32m/usr/local/lib/python3.6/dist-packages/sklearn/metrics/_classification.py\u001b[0m in \u001b[0;36mconfusion_matrix\u001b[0;34m(y_true, y_pred, labels, sample_weight, normalize)\u001b[0m\n\u001b[1;32m    266\u001b[0m \u001b[0;34m\u001b[0m\u001b[0m\n\u001b[1;32m    267\u001b[0m     \"\"\"\n\u001b[0;32m--> 268\u001b[0;31m     \u001b[0my_type\u001b[0m\u001b[0;34m,\u001b[0m \u001b[0my_true\u001b[0m\u001b[0;34m,\u001b[0m \u001b[0my_pred\u001b[0m \u001b[0;34m=\u001b[0m \u001b[0m_check_targets\u001b[0m\u001b[0;34m(\u001b[0m\u001b[0my_true\u001b[0m\u001b[0;34m,\u001b[0m \u001b[0my_pred\u001b[0m\u001b[0;34m)\u001b[0m\u001b[0;34m\u001b[0m\u001b[0;34m\u001b[0m\u001b[0m\n\u001b[0m\u001b[1;32m    269\u001b[0m     \u001b[0;32mif\u001b[0m \u001b[0my_type\u001b[0m \u001b[0;32mnot\u001b[0m \u001b[0;32min\u001b[0m \u001b[0;34m(\u001b[0m\u001b[0;34m\"binary\"\u001b[0m\u001b[0;34m,\u001b[0m \u001b[0;34m\"multiclass\"\u001b[0m\u001b[0;34m)\u001b[0m\u001b[0;34m:\u001b[0m\u001b[0;34m\u001b[0m\u001b[0;34m\u001b[0m\u001b[0m\n\u001b[1;32m    270\u001b[0m         \u001b[0;32mraise\u001b[0m \u001b[0mValueError\u001b[0m\u001b[0;34m(\u001b[0m\u001b[0;34m\"%s is not supported\"\u001b[0m \u001b[0;34m%\u001b[0m \u001b[0my_type\u001b[0m\u001b[0;34m)\u001b[0m\u001b[0;34m\u001b[0m\u001b[0;34m\u001b[0m\u001b[0m\n",
            "\u001b[0;32m/usr/local/lib/python3.6/dist-packages/sklearn/metrics/_classification.py\u001b[0m in \u001b[0;36m_check_targets\u001b[0;34m(y_true, y_pred)\u001b[0m\n\u001b[1;32m     88\u001b[0m     \u001b[0;32mif\u001b[0m \u001b[0mlen\u001b[0m\u001b[0;34m(\u001b[0m\u001b[0my_type\u001b[0m\u001b[0;34m)\u001b[0m \u001b[0;34m>\u001b[0m \u001b[0;36m1\u001b[0m\u001b[0;34m:\u001b[0m\u001b[0;34m\u001b[0m\u001b[0;34m\u001b[0m\u001b[0m\n\u001b[1;32m     89\u001b[0m         raise ValueError(\"Classification metrics can't handle a mix of {0} \"\n\u001b[0;32m---> 90\u001b[0;31m                          \"and {1} targets\".format(type_true, type_pred))\n\u001b[0m\u001b[1;32m     91\u001b[0m \u001b[0;34m\u001b[0m\u001b[0m\n\u001b[1;32m     92\u001b[0m     \u001b[0;31m# We can't have more than one value on y_type => The set is no more needed\u001b[0m\u001b[0;34m\u001b[0m\u001b[0;34m\u001b[0m\u001b[0;34m\u001b[0m\u001b[0m\n",
            "\u001b[0;31mValueError\u001b[0m: Classification metrics can't handle a mix of multilabel-indicator and binary targets"
          ]
        }
      ]
    },
    {
      "cell_type": "markdown",
      "metadata": {
        "id": "Etcq-lGqpfU0"
      },
      "source": [
        "## Question 3: Bonus - EMNIST"
      ]
    },
    {
      "cell_type": "markdown",
      "metadata": {
        "id": "2qhzfZO2pfU0"
      },
      "source": [
        "EMNIST is an expansion of MNIST on [Kaggle](https://www.kaggle.com/crawford/emnist). If you feel you still need some practice, feel free to check it out. Others have made notebooks on Kaggle with other fancy techniques. Explore if you have time!\n",
        "\n",
        "If you're interested in similar preprocessed datasets, check out this website: https://analyticsindiamag.com/fashion-and-medical-mnist/. They link to medical datasets and a sign language-like MNIST."
      ]
    },
    {
      "cell_type": "markdown",
      "metadata": {
        "id": "Ww13vYIIURGV"
      },
      "source": [
        "## Submission\n",
        "\n",
        "Once you're ready to submit, turn in a copy of this Jupyter notebook and a PDF copy of it. For the PDF, please label the pages of questions 1, 2, and (optionally) 3.\n",
        "\n",
        "Locally, there should a \"Download as\" under \"File\" and PDF should be an option. \n",
        "\n",
        "If you're doing this assignment using Colab, Colab does not have this PDF option. I recommend openning this notebook using IPython/Jupyter Notebook locally and doing the instruction above. If you're resistant to this option, there are other options. If you're on a Mac, a hack you can do is to print this page and before you print, save the file as a PDF instead of printing. \n",
        "\n",
        "An alternative is to save your Colab notebook as an HTML file and convert that into a PDF (using a third party website like https://html2pdf.com/ or a browser extension like https://chrome.google.com/webstore/detail/web-page-to-pdf-converter/bbfoccanbdeldjaelafmbgonagegdndg). Converting HTMLs into PDFs tends to be easier/more common than ipynb to PDFs. If you need additional help, please feel free to Slack Kevin or Jess for aid!"
      ]
    },
    {
      "cell_type": "code",
      "metadata": {
        "id": "I_zKrVWkcrZL"
      },
      "source": [
        ""
      ],
      "execution_count": null,
      "outputs": []
    }
  ]
}